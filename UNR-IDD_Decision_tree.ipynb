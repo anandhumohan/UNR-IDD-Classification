{
 "cells": [
  {
   "cell_type": "markdown",
   "id": "8b28ec60",
   "metadata": {},
   "source": [
    "## Exploratory Data Analysis"
   ]
  },
  {
   "cell_type": "code",
   "execution_count": 70,
   "id": "d885ebd0",
   "metadata": {},
   "outputs": [],
   "source": [
    "import pandas as pd\n",
    "import matplotlib.pyplot as plt\n",
    "\n",
    "import warnings\n",
    "warnings.filterwarnings(\"ignore\")"
   ]
  },
  {
   "cell_type": "code",
   "execution_count": 71,
   "id": "e4cf6743",
   "metadata": {},
   "outputs": [
    {
     "data": {
      "text/html": [
       "<div>\n",
       "<style scoped>\n",
       "    .dataframe tbody tr th:only-of-type {\n",
       "        vertical-align: middle;\n",
       "    }\n",
       "\n",
       "    .dataframe tbody tr th {\n",
       "        vertical-align: top;\n",
       "    }\n",
       "\n",
       "    .dataframe thead th {\n",
       "        text-align: right;\n",
       "    }\n",
       "</style>\n",
       "<table border=\"1\" class=\"dataframe\">\n",
       "  <thead>\n",
       "    <tr style=\"text-align: right;\">\n",
       "      <th></th>\n",
       "      <th>Switch ID</th>\n",
       "      <th>Port Number</th>\n",
       "      <th>Received Packets</th>\n",
       "      <th>Received Bytes</th>\n",
       "      <th>Sent Bytes</th>\n",
       "      <th>Sent Packets</th>\n",
       "      <th>Port alive Duration (S)</th>\n",
       "      <th>Packets Rx Dropped</th>\n",
       "      <th>Packets Tx Dropped</th>\n",
       "      <th>Packets Rx Errors</th>\n",
       "      <th>...</th>\n",
       "      <th>Unknown Load/Latest</th>\n",
       "      <th>Latest bytes counter</th>\n",
       "      <th>is_valid</th>\n",
       "      <th>Table ID</th>\n",
       "      <th>Active Flow Entries</th>\n",
       "      <th>Packets Looked Up</th>\n",
       "      <th>Packets Matched</th>\n",
       "      <th>Max Size</th>\n",
       "      <th>Label</th>\n",
       "      <th>Binary Label</th>\n",
       "    </tr>\n",
       "  </thead>\n",
       "  <tbody>\n",
       "    <tr>\n",
       "      <th>0</th>\n",
       "      <td>of:000000000000000c</td>\n",
       "      <td>Port#:1</td>\n",
       "      <td>132</td>\n",
       "      <td>9181</td>\n",
       "      <td>6311853</td>\n",
       "      <td>238</td>\n",
       "      <td>46</td>\n",
       "      <td>0</td>\n",
       "      <td>0</td>\n",
       "      <td>0</td>\n",
       "      <td>...</td>\n",
       "      <td>0</td>\n",
       "      <td>0</td>\n",
       "      <td>True</td>\n",
       "      <td>0</td>\n",
       "      <td>9</td>\n",
       "      <td>767</td>\n",
       "      <td>688</td>\n",
       "      <td>-1</td>\n",
       "      <td>TCP-SYN</td>\n",
       "      <td>Attack</td>\n",
       "    </tr>\n",
       "    <tr>\n",
       "      <th>1</th>\n",
       "      <td>of:000000000000000c</td>\n",
       "      <td>Port#:2</td>\n",
       "      <td>187</td>\n",
       "      <td>6304498</td>\n",
       "      <td>15713</td>\n",
       "      <td>171</td>\n",
       "      <td>46</td>\n",
       "      <td>0</td>\n",
       "      <td>0</td>\n",
       "      <td>0</td>\n",
       "      <td>...</td>\n",
       "      <td>0</td>\n",
       "      <td>0</td>\n",
       "      <td>True</td>\n",
       "      <td>0</td>\n",
       "      <td>9</td>\n",
       "      <td>767</td>\n",
       "      <td>688</td>\n",
       "      <td>-1</td>\n",
       "      <td>TCP-SYN</td>\n",
       "      <td>Attack</td>\n",
       "    </tr>\n",
       "    <tr>\n",
       "      <th>2</th>\n",
       "      <td>of:000000000000000c</td>\n",
       "      <td>Port#:3</td>\n",
       "      <td>235</td>\n",
       "      <td>6311567</td>\n",
       "      <td>8030</td>\n",
       "      <td>58</td>\n",
       "      <td>46</td>\n",
       "      <td>0</td>\n",
       "      <td>0</td>\n",
       "      <td>0</td>\n",
       "      <td>...</td>\n",
       "      <td>0</td>\n",
       "      <td>0</td>\n",
       "      <td>True</td>\n",
       "      <td>0</td>\n",
       "      <td>9</td>\n",
       "      <td>767</td>\n",
       "      <td>688</td>\n",
       "      <td>-1</td>\n",
       "      <td>TCP-SYN</td>\n",
       "      <td>Attack</td>\n",
       "    </tr>\n",
       "    <tr>\n",
       "      <th>3</th>\n",
       "      <td>of:000000000000000c</td>\n",
       "      <td>Port#:4</td>\n",
       "      <td>59</td>\n",
       "      <td>7878</td>\n",
       "      <td>16439</td>\n",
       "      <td>182</td>\n",
       "      <td>46</td>\n",
       "      <td>0</td>\n",
       "      <td>0</td>\n",
       "      <td>0</td>\n",
       "      <td>...</td>\n",
       "      <td>0</td>\n",
       "      <td>0</td>\n",
       "      <td>True</td>\n",
       "      <td>0</td>\n",
       "      <td>9</td>\n",
       "      <td>767</td>\n",
       "      <td>688</td>\n",
       "      <td>-1</td>\n",
       "      <td>TCP-SYN</td>\n",
       "      <td>Attack</td>\n",
       "    </tr>\n",
       "    <tr>\n",
       "      <th>4</th>\n",
       "      <td>of:000000000000000a</td>\n",
       "      <td>Port#:1</td>\n",
       "      <td>188</td>\n",
       "      <td>6304547</td>\n",
       "      <td>16497</td>\n",
       "      <td>183</td>\n",
       "      <td>46</td>\n",
       "      <td>0</td>\n",
       "      <td>0</td>\n",
       "      <td>0</td>\n",
       "      <td>...</td>\n",
       "      <td>0</td>\n",
       "      <td>0</td>\n",
       "      <td>True</td>\n",
       "      <td>0</td>\n",
       "      <td>7</td>\n",
       "      <td>489</td>\n",
       "      <td>403</td>\n",
       "      <td>-1</td>\n",
       "      <td>TCP-SYN</td>\n",
       "      <td>Attack</td>\n",
       "    </tr>\n",
       "  </tbody>\n",
       "</table>\n",
       "<p>5 rows × 34 columns</p>\n",
       "</div>"
      ],
      "text/plain": [
       "             Switch ID Port Number  Received Packets  Received Bytes  \\\n",
       "0  of:000000000000000c     Port#:1               132            9181   \n",
       "1  of:000000000000000c     Port#:2               187         6304498   \n",
       "2  of:000000000000000c     Port#:3               235         6311567   \n",
       "3  of:000000000000000c     Port#:4                59            7878   \n",
       "4  of:000000000000000a     Port#:1               188         6304547   \n",
       "\n",
       "   Sent Bytes  Sent Packets  Port alive Duration (S)  Packets Rx Dropped  \\\n",
       "0     6311853           238                       46                   0   \n",
       "1       15713           171                       46                   0   \n",
       "2        8030            58                       46                   0   \n",
       "3       16439           182                       46                   0   \n",
       "4       16497           183                       46                   0   \n",
       "\n",
       "   Packets Tx Dropped  Packets Rx Errors  ...  Unknown Load/Latest  \\\n",
       "0                   0                  0  ...                    0   \n",
       "1                   0                  0  ...                    0   \n",
       "2                   0                  0  ...                    0   \n",
       "3                   0                  0  ...                    0   \n",
       "4                   0                  0  ...                    0   \n",
       "\n",
       "   Latest bytes counter  is_valid  Table ID  Active Flow Entries  \\\n",
       "0                     0      True         0                    9   \n",
       "1                     0      True         0                    9   \n",
       "2                     0      True         0                    9   \n",
       "3                     0      True         0                    9   \n",
       "4                     0      True         0                    7   \n",
       "\n",
       "   Packets Looked Up  Packets Matched  Max Size    Label  Binary Label  \n",
       "0                767              688        -1  TCP-SYN        Attack  \n",
       "1                767              688        -1  TCP-SYN        Attack  \n",
       "2                767              688        -1  TCP-SYN        Attack  \n",
       "3                767              688        -1  TCP-SYN        Attack  \n",
       "4                489              403        -1  TCP-SYN        Attack  \n",
       "\n",
       "[5 rows x 34 columns]"
      ]
     },
     "execution_count": 71,
     "metadata": {},
     "output_type": "execute_result"
    }
   ],
   "source": [
    "data = pd.read_csv(\"UNR-IDD.csv\")\n",
    "data.head()"
   ]
  },
  {
   "cell_type": "code",
   "execution_count": 72,
   "id": "c40a50eb",
   "metadata": {},
   "outputs": [
    {
     "data": {
      "text/plain": [
       "(37411, 34)"
      ]
     },
     "execution_count": 72,
     "metadata": {},
     "output_type": "execute_result"
    }
   ],
   "source": [
    "data.shape"
   ]
  },
  {
   "cell_type": "code",
   "execution_count": 73,
   "id": "5b585c42",
   "metadata": {},
   "outputs": [
    {
     "name": "stdout",
     "output_type": "stream",
     "text": [
      "<class 'pandas.core.frame.DataFrame'>\n",
      "RangeIndex: 37411 entries, 0 to 37410\n",
      "Data columns (total 34 columns):\n",
      " #   Column                         Non-Null Count  Dtype \n",
      "---  ------                         --------------  ----- \n",
      " 0   Switch ID                      37411 non-null  object\n",
      " 1   Port Number                    37411 non-null  object\n",
      " 2   Received Packets               37411 non-null  int64 \n",
      " 3   Received Bytes                 37411 non-null  int64 \n",
      " 4   Sent Bytes                     37411 non-null  int64 \n",
      " 5   Sent Packets                   37411 non-null  int64 \n",
      " 6   Port alive Duration (S)        37411 non-null  int64 \n",
      " 7   Packets Rx Dropped             37411 non-null  int64 \n",
      " 8   Packets Tx Dropped             37411 non-null  int64 \n",
      " 9   Packets Rx Errors              37411 non-null  int64 \n",
      " 10  Packets Tx Errors              37411 non-null  int64 \n",
      " 11  Delta Received Packets         37411 non-null  int64 \n",
      " 12  Delta Received Bytes           37411 non-null  int64 \n",
      " 13  Delta Sent Bytes               37411 non-null  int64 \n",
      " 14  Delta Sent Packets             37411 non-null  int64 \n",
      " 15  Delta Port alive Duration (S)  37411 non-null  int64 \n",
      " 16  Delta Packets Rx Dropped       37411 non-null  int64 \n",
      " 17   Delta Packets Tx Dropped      37411 non-null  int64 \n",
      " 18  Delta Packets Rx Errors        37411 non-null  int64 \n",
      " 19  Delta Packets Tx Errors        37411 non-null  int64 \n",
      " 20  Connection Point               37411 non-null  int64 \n",
      " 21  Total Load/Rate                37411 non-null  int64 \n",
      " 22  Total Load/Latest              37411 non-null  int64 \n",
      " 23  Unknown Load/Rate              37411 non-null  int64 \n",
      " 24  Unknown Load/Latest            37411 non-null  int64 \n",
      " 25  Latest bytes counter           37411 non-null  int64 \n",
      " 26  is_valid                       37411 non-null  bool  \n",
      " 27  Table ID                       37411 non-null  int64 \n",
      " 28  Active Flow Entries            37411 non-null  int64 \n",
      " 29  Packets Looked Up              37411 non-null  int64 \n",
      " 30  Packets Matched                37411 non-null  int64 \n",
      " 31  Max Size                       37411 non-null  int64 \n",
      " 32  Label                          37411 non-null  object\n",
      " 33  Binary Label                   37411 non-null  object\n",
      "dtypes: bool(1), int64(29), object(4)\n",
      "memory usage: 9.5+ MB\n"
     ]
    }
   ],
   "source": [
    "data.info()"
   ]
  },
  {
   "cell_type": "markdown",
   "id": "02b29c16",
   "metadata": {},
   "source": [
    "## Data Pre-processing"
   ]
  },
  {
   "cell_type": "code",
   "execution_count": 74,
   "id": "1031b59c",
   "metadata": {},
   "outputs": [],
   "source": [
    "from sklearn.model_selection import train_test_split\n",
    "from sklearn.tree import DecisionTreeClassifier\n",
    "from sklearn.preprocessing import LabelEncoder\n",
    "from sklearn.metrics import confusion_matrix, ConfusionMatrixDisplay, classification_report, accuracy_score "
   ]
  },
  {
   "cell_type": "code",
   "execution_count": 75,
   "id": "2f230d45",
   "metadata": {},
   "outputs": [],
   "source": [
    "data.drop(columns=['Packets Rx Dropped', 'Packets Tx Dropped', 'Packets Rx Errors', 'Packets Tx Errors','Delta Packets Rx Dropped',' Delta Packets Tx Dropped','Delta Packets Rx Errors','Delta Packets Tx Errors','is_valid','Table ID','Max Size'], inplace=True)"
   ]
  },
  {
   "cell_type": "code",
   "execution_count": 76,
   "id": "c1ba0ad1",
   "metadata": {},
   "outputs": [],
   "source": [
    "labelencoder = LabelEncoder()\n",
    "\n",
    "labelencoder.fit(data['Switch ID'])\n",
    "data ['Switch ID'] = labelencoder.transform(data['Switch ID'])\n",
    "\n",
    "labelencoder.fit(data['Port Number'])\n",
    "data ['Port Number'] = labelencoder.transform(data['Port Number'])\n",
    "\n",
    "labelencoder.fit(data['Binary Label'])\n",
    "data ['Binary Label'] = labelencoder.transform(data['Binary Label'])"
   ]
  },
  {
   "cell_type": "code",
   "execution_count": 77,
   "id": "82c6911e",
   "metadata": {},
   "outputs": [],
   "source": [
    "X = data.drop('Label',axis=1).values\n",
    "y = data['Label'].values"
   ]
  },
  {
   "cell_type": "code",
   "execution_count": 78,
   "id": "2123461e",
   "metadata": {},
   "outputs": [
    {
     "name": "stdout",
     "output_type": "stream",
     "text": [
      "[[    11      0    132 ...    767    688      0]\n",
      " [    11      1    187 ...    767    688      0]\n",
      " [    11      2    235 ...    767    688      0]\n",
      " ...\n",
      " [     8      0   1042 ... 295511 295404      0]\n",
      " [     8      1 149012 ... 295511 295404      0]\n",
      " [     8      2    228 ... 295511 295404      0]]\n",
      "['TCP-SYN' 'TCP-SYN' 'TCP-SYN' ... 'PortScan' 'PortScan' 'PortScan']\n"
     ]
    }
   ],
   "source": [
    "print(X)\n",
    "print(y)"
   ]
  },
  {
   "cell_type": "code",
   "execution_count": 79,
   "id": "52c64c43",
   "metadata": {},
   "outputs": [
    {
     "name": "stdout",
     "output_type": "stream",
     "text": [
      "(22446, 22)\n",
      "(14965, 22)\n",
      "(22446,)\n",
      "(14965,)\n"
     ]
    }
   ],
   "source": [
    "X_train, X_test, y_train, y_test = train_test_split (X, y, test_size = 0.4, random_state = 42)\n",
    "\n",
    "print (X_train.shape)\n",
    "print (X_test.shape)\n",
    "print (y_train.shape)\n",
    "print (y_test.shape)"
   ]
  },
  {
   "cell_type": "markdown",
   "id": "4f3cf4c8",
   "metadata": {},
   "source": [
    "## Building the model"
   ]
  },
  {
   "cell_type": "code",
   "execution_count": 86,
   "id": "aa3a8726",
   "metadata": {},
   "outputs": [
    {
     "data": {
      "text/plain": [
       "DecisionTreeClassifier(criterion='entropy')"
      ]
     },
     "execution_count": 86,
     "metadata": {},
     "output_type": "execute_result"
    }
   ],
   "source": [
    "dt = DecisionTreeClassifier(criterion=\"entropy\")\n",
    "dt.fit(X_train, y_train)"
   ]
  },
  {
   "cell_type": "code",
   "execution_count": 87,
   "id": "15b36c60",
   "metadata": {},
   "outputs": [],
   "source": [
    "y_pred = dt.predict(X_test)"
   ]
  },
  {
   "cell_type": "code",
   "execution_count": 88,
   "id": "3e743b1b",
   "metadata": {},
   "outputs": [
    {
     "name": "stdout",
     "output_type": "stream",
     "text": [
      "1.0\n",
      "0.9334447043100568\n"
     ]
    }
   ],
   "source": [
    "print (dt.score(X_train, y_train))\n",
    "print (dt.score(X_test, y_test))"
   ]
  },
  {
   "cell_type": "markdown",
   "id": "6c1a003a",
   "metadata": {},
   "source": [
    "## Evaluating the performance of the model"
   ]
  },
  {
   "cell_type": "code",
   "execution_count": 91,
   "id": "bd26ea78",
   "metadata": {},
   "outputs": [
    {
     "name": "stdout",
     "output_type": "stream",
     "text": [
      "              precision    recall  f1-score   support\n",
      "\n",
      "   Blackhole       0.98      0.98      0.98      3308\n",
      "   Diversion       0.98      0.98      0.98      2261\n",
      "      Normal       1.00      1.00      1.00      1493\n",
      "    Overflow       0.82      0.76      0.79       399\n",
      "    PortScan       0.89      0.91      0.90      3807\n",
      "     TCP-SYN       0.90      0.88      0.89      3697\n",
      "\n",
      "    accuracy                           0.93     14965\n",
      "   macro avg       0.93      0.92      0.92     14965\n",
      "weighted avg       0.93      0.93      0.93     14965\n",
      "\n",
      "Validation Accuracy:  0.9334447043100568\n",
      "None\n"
     ]
    }
   ],
   "source": [
    "print (classification_report(y_test, y_pred))\n",
    "print (print(\"Validation Accuracy: \",accuracy_score(y_test, y_pred)))"
   ]
  },
  {
   "cell_type": "code",
   "execution_count": 93,
   "id": "59d12495",
   "metadata": {},
   "outputs": [
    {
     "data": {
      "image/png": "[encoded data removed]",
      "text/plain": [
       "<Figure size 640x480 with 2 Axes>"
      ]
     },
     "metadata": {},
     "output_type": "display_data"
    }
   ],
   "source": [
    "cm = confusion_matrix(y_test, y_pred) \n",
    "disp = ConfusionMatrixDisplay(confusion_matrix=cm, display_labels=dt.classes_)\n",
    "disp.plot(cmap=plt.cm.Blues,values_format='g')\n",
    "plt.show()"
   ]
  }
 ],
 "metadata": {
  "kernelspec": {
   "display_name": "Python 3 (ipykernel)",
   "language": "python",
   "name": "python3"
  },
  "language_info": {
   "codemirror_mode": {
    "name": "ipython",
    "version": 3
   },
   "file_extension": ".py",
   "mimetype": "text/x-python",
   "name": "python",
   "nbconvert_exporter": "python",
   "pygments_lexer": "ipython3",
   "version": "3.9.13"
  }
 },
 "nbformat": 4,
 "nbformat_minor": 5
}
