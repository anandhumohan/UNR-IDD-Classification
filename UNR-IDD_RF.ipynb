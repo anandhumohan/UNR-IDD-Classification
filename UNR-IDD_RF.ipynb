{
 "cells": [
  {
   "cell_type": "markdown",
   "id": "87bdcca4",
   "metadata": {},
   "source": [
    "## Exploratory Data Analysis"
   ]
  },
  {
   "cell_type": "code",
   "execution_count": 1,
   "id": "84f14dfc",
   "metadata": {},
   "outputs": [],
   "source": [
    "import pandas as pd\n",
    "import matplotlib.pyplot as plt\n",
    "import seaborn as sns\n",
    "\n",
    "import warnings\n",
    "warnings.filterwarnings(\"ignore\")"
   ]
  },
  {
   "cell_type": "code",
   "execution_count": 2,
   "id": "3cf1c49f",
   "metadata": {},
   "outputs": [
    {
     "data": {
      "text/html": [
       "<div>\n",
       "<style scoped>\n",
       "    .dataframe tbody tr th:only-of-type {\n",
       "        vertical-align: middle;\n",
       "    }\n",
       "\n",
       "    .dataframe tbody tr th {\n",
       "        vertical-align: top;\n",
       "    }\n",
       "\n",
       "    .dataframe thead th {\n",
       "        text-align: right;\n",
       "    }\n",
       "</style>\n",
       "<table border=\"1\" class=\"dataframe\">\n",
       "  <thead>\n",
       "    <tr style=\"text-align: right;\">\n",
       "      <th></th>\n",
       "      <th>Switch ID</th>\n",
       "      <th>Port Number</th>\n",
       "      <th>Received Packets</th>\n",
       "      <th>Received Bytes</th>\n",
       "      <th>Sent Bytes</th>\n",
       "      <th>Sent Packets</th>\n",
       "      <th>Port alive Duration (S)</th>\n",
       "      <th>Packets Rx Dropped</th>\n",
       "      <th>Packets Tx Dropped</th>\n",
       "      <th>Packets Rx Errors</th>\n",
       "      <th>...</th>\n",
       "      <th>Unknown Load/Latest</th>\n",
       "      <th>Latest bytes counter</th>\n",
       "      <th>is_valid</th>\n",
       "      <th>Table ID</th>\n",
       "      <th>Active Flow Entries</th>\n",
       "      <th>Packets Looked Up</th>\n",
       "      <th>Packets Matched</th>\n",
       "      <th>Max Size</th>\n",
       "      <th>Label</th>\n",
       "      <th>Binary Label</th>\n",
       "    </tr>\n",
       "  </thead>\n",
       "  <tbody>\n",
       "    <tr>\n",
       "      <th>0</th>\n",
       "      <td>of:000000000000000c</td>\n",
       "      <td>Port#:1</td>\n",
       "      <td>132</td>\n",
       "      <td>9181</td>\n",
       "      <td>6311853</td>\n",
       "      <td>238</td>\n",
       "      <td>46</td>\n",
       "      <td>0</td>\n",
       "      <td>0</td>\n",
       "      <td>0</td>\n",
       "      <td>...</td>\n",
       "      <td>0</td>\n",
       "      <td>0</td>\n",
       "      <td>True</td>\n",
       "      <td>0</td>\n",
       "      <td>9</td>\n",
       "      <td>767</td>\n",
       "      <td>688</td>\n",
       "      <td>-1</td>\n",
       "      <td>TCP-SYN</td>\n",
       "      <td>Attack</td>\n",
       "    </tr>\n",
       "    <tr>\n",
       "      <th>1</th>\n",
       "      <td>of:000000000000000c</td>\n",
       "      <td>Port#:2</td>\n",
       "      <td>187</td>\n",
       "      <td>6304498</td>\n",
       "      <td>15713</td>\n",
       "      <td>171</td>\n",
       "      <td>46</td>\n",
       "      <td>0</td>\n",
       "      <td>0</td>\n",
       "      <td>0</td>\n",
       "      <td>...</td>\n",
       "      <td>0</td>\n",
       "      <td>0</td>\n",
       "      <td>True</td>\n",
       "      <td>0</td>\n",
       "      <td>9</td>\n",
       "      <td>767</td>\n",
       "      <td>688</td>\n",
       "      <td>-1</td>\n",
       "      <td>TCP-SYN</td>\n",
       "      <td>Attack</td>\n",
       "    </tr>\n",
       "    <tr>\n",
       "      <th>2</th>\n",
       "      <td>of:000000000000000c</td>\n",
       "      <td>Port#:3</td>\n",
       "      <td>235</td>\n",
       "      <td>6311567</td>\n",
       "      <td>8030</td>\n",
       "      <td>58</td>\n",
       "      <td>46</td>\n",
       "      <td>0</td>\n",
       "      <td>0</td>\n",
       "      <td>0</td>\n",
       "      <td>...</td>\n",
       "      <td>0</td>\n",
       "      <td>0</td>\n",
       "      <td>True</td>\n",
       "      <td>0</td>\n",
       "      <td>9</td>\n",
       "      <td>767</td>\n",
       "      <td>688</td>\n",
       "      <td>-1</td>\n",
       "      <td>TCP-SYN</td>\n",
       "      <td>Attack</td>\n",
       "    </tr>\n",
       "    <tr>\n",
       "      <th>3</th>\n",
       "      <td>of:000000000000000c</td>\n",
       "      <td>Port#:4</td>\n",
       "      <td>59</td>\n",
       "      <td>7878</td>\n",
       "      <td>16439</td>\n",
       "      <td>182</td>\n",
       "      <td>46</td>\n",
       "      <td>0</td>\n",
       "      <td>0</td>\n",
       "      <td>0</td>\n",
       "      <td>...</td>\n",
       "      <td>0</td>\n",
       "      <td>0</td>\n",
       "      <td>True</td>\n",
       "      <td>0</td>\n",
       "      <td>9</td>\n",
       "      <td>767</td>\n",
       "      <td>688</td>\n",
       "      <td>-1</td>\n",
       "      <td>TCP-SYN</td>\n",
       "      <td>Attack</td>\n",
       "    </tr>\n",
       "    <tr>\n",
       "      <th>4</th>\n",
       "      <td>of:000000000000000a</td>\n",
       "      <td>Port#:1</td>\n",
       "      <td>188</td>\n",
       "      <td>6304547</td>\n",
       "      <td>16497</td>\n",
       "      <td>183</td>\n",
       "      <td>46</td>\n",
       "      <td>0</td>\n",
       "      <td>0</td>\n",
       "      <td>0</td>\n",
       "      <td>...</td>\n",
       "      <td>0</td>\n",
       "      <td>0</td>\n",
       "      <td>True</td>\n",
       "      <td>0</td>\n",
       "      <td>7</td>\n",
       "      <td>489</td>\n",
       "      <td>403</td>\n",
       "      <td>-1</td>\n",
       "      <td>TCP-SYN</td>\n",
       "      <td>Attack</td>\n",
       "    </tr>\n",
       "  </tbody>\n",
       "</table>\n",
       "<p>5 rows × 34 columns</p>\n",
       "</div>"
      ],
      "text/plain": [
       "             Switch ID Port Number  Received Packets  Received Bytes  \\\n",
       "0  of:000000000000000c     Port#:1               132            9181   \n",
       "1  of:000000000000000c     Port#:2               187         6304498   \n",
       "2  of:000000000000000c     Port#:3               235         6311567   \n",
       "3  of:000000000000000c     Port#:4                59            7878   \n",
       "4  of:000000000000000a     Port#:1               188         6304547   \n",
       "\n",
       "   Sent Bytes  Sent Packets  Port alive Duration (S)  Packets Rx Dropped  \\\n",
       "0     6311853           238                       46                   0   \n",
       "1       15713           171                       46                   0   \n",
       "2        8030            58                       46                   0   \n",
       "3       16439           182                       46                   0   \n",
       "4       16497           183                       46                   0   \n",
       "\n",
       "   Packets Tx Dropped  Packets Rx Errors  ...  Unknown Load/Latest  \\\n",
       "0                   0                  0  ...                    0   \n",
       "1                   0                  0  ...                    0   \n",
       "2                   0                  0  ...                    0   \n",
       "3                   0                  0  ...                    0   \n",
       "4                   0                  0  ...                    0   \n",
       "\n",
       "   Latest bytes counter  is_valid  Table ID  Active Flow Entries  \\\n",
       "0                     0      True         0                    9   \n",
       "1                     0      True         0                    9   \n",
       "2                     0      True         0                    9   \n",
       "3                     0      True         0                    9   \n",
       "4                     0      True         0                    7   \n",
       "\n",
       "   Packets Looked Up  Packets Matched  Max Size    Label  Binary Label  \n",
       "0                767              688        -1  TCP-SYN        Attack  \n",
       "1                767              688        -1  TCP-SYN        Attack  \n",
       "2                767              688        -1  TCP-SYN        Attack  \n",
       "3                767              688        -1  TCP-SYN        Attack  \n",
       "4                489              403        -1  TCP-SYN        Attack  \n",
       "\n",
       "[5 rows x 34 columns]"
      ]
     },
     "execution_count": 2,
     "metadata": {},
     "output_type": "execute_result"
    }
   ],
   "source": [
    "data = pd.read_csv(\"UNR-IDD.csv\")\n",
    "data.head()"
   ]
  },
  {
   "cell_type": "code",
   "execution_count": 3,
   "id": "51803b7e",
   "metadata": {},
   "outputs": [
    {
     "data": {
      "text/plain": [
       "(37411, 34)"
      ]
     },
     "execution_count": 3,
     "metadata": {},
     "output_type": "execute_result"
    }
   ],
   "source": [
    "data.shape"
   ]
  },
  {
   "cell_type": "code",
   "execution_count": 4,
   "id": "1557e8a0",
   "metadata": {},
   "outputs": [
    {
     "data": {
      "text/plain": [
       "Index(['Switch ID', 'Port Number', 'Received Packets', 'Received Bytes',\n",
       "       'Sent Bytes', 'Sent Packets', 'Port alive Duration (S)',\n",
       "       'Packets Rx Dropped', 'Packets Tx Dropped', 'Packets Rx Errors',\n",
       "       'Packets Tx Errors', 'Delta Received Packets', 'Delta Received Bytes',\n",
       "       'Delta Sent Bytes', 'Delta Sent Packets',\n",
       "       'Delta Port alive Duration (S)', 'Delta Packets Rx Dropped',\n",
       "       ' Delta Packets Tx Dropped', 'Delta Packets Rx Errors',\n",
       "       'Delta Packets Tx Errors', 'Connection Point', 'Total Load/Rate',\n",
       "       'Total Load/Latest', 'Unknown Load/Rate', 'Unknown Load/Latest',\n",
       "       'Latest bytes counter', 'is_valid', 'Table ID', 'Active Flow Entries',\n",
       "       'Packets Looked Up', 'Packets Matched', 'Max Size', 'Label',\n",
       "       'Binary Label'],\n",
       "      dtype='object')"
      ]
     },
     "execution_count": 4,
     "metadata": {},
     "output_type": "execute_result"
    }
   ],
   "source": [
    "data.columns"
   ]
  },
  {
   "cell_type": "code",
   "execution_count": 5,
   "id": "aed17fc4",
   "metadata": {},
   "outputs": [
    {
     "name": "stdout",
     "output_type": "stream",
     "text": [
      "<class 'pandas.core.frame.DataFrame'>\n",
      "RangeIndex: 37411 entries, 0 to 37410\n",
      "Data columns (total 34 columns):\n",
      " #   Column                         Non-Null Count  Dtype \n",
      "---  ------                         --------------  ----- \n",
      " 0   Switch ID                      37411 non-null  object\n",
      " 1   Port Number                    37411 non-null  object\n",
      " 2   Received Packets               37411 non-null  int64 \n",
      " 3   Received Bytes                 37411 non-null  int64 \n",
      " 4   Sent Bytes                     37411 non-null  int64 \n",
      " 5   Sent Packets                   37411 non-null  int64 \n",
      " 6   Port alive Duration (S)        37411 non-null  int64 \n",
      " 7   Packets Rx Dropped             37411 non-null  int64 \n",
      " 8   Packets Tx Dropped             37411 non-null  int64 \n",
      " 9   Packets Rx Errors              37411 non-null  int64 \n",
      " 10  Packets Tx Errors              37411 non-null  int64 \n",
      " 11  Delta Received Packets         37411 non-null  int64 \n",
      " 12  Delta Received Bytes           37411 non-null  int64 \n",
      " 13  Delta Sent Bytes               37411 non-null  int64 \n",
      " 14  Delta Sent Packets             37411 non-null  int64 \n",
      " 15  Delta Port alive Duration (S)  37411 non-null  int64 \n",
      " 16  Delta Packets Rx Dropped       37411 non-null  int64 \n",
      " 17   Delta Packets Tx Dropped      37411 non-null  int64 \n",
      " 18  Delta Packets Rx Errors        37411 non-null  int64 \n",
      " 19  Delta Packets Tx Errors        37411 non-null  int64 \n",
      " 20  Connection Point               37411 non-null  int64 \n",
      " 21  Total Load/Rate                37411 non-null  int64 \n",
      " 22  Total Load/Latest              37411 non-null  int64 \n",
      " 23  Unknown Load/Rate              37411 non-null  int64 \n",
      " 24  Unknown Load/Latest            37411 non-null  int64 \n",
      " 25  Latest bytes counter           37411 non-null  int64 \n",
      " 26  is_valid                       37411 non-null  bool  \n",
      " 27  Table ID                       37411 non-null  int64 \n",
      " 28  Active Flow Entries            37411 non-null  int64 \n",
      " 29  Packets Looked Up              37411 non-null  int64 \n",
      " 30  Packets Matched                37411 non-null  int64 \n",
      " 31  Max Size                       37411 non-null  int64 \n",
      " 32  Label                          37411 non-null  object\n",
      " 33  Binary Label                   37411 non-null  object\n",
      "dtypes: bool(1), int64(29), object(4)\n",
      "memory usage: 9.5+ MB\n"
     ]
    }
   ],
   "source": [
    "data.info()"
   ]
  },
  {
   "cell_type": "code",
   "execution_count": 6,
   "id": "58ba2cb1",
   "metadata": {},
   "outputs": [
    {
     "data": {
      "text/html": [
       "<div>\n",
       "<style scoped>\n",
       "    .dataframe tbody tr th:only-of-type {\n",
       "        vertical-align: middle;\n",
       "    }\n",
       "\n",
       "    .dataframe tbody tr th {\n",
       "        vertical-align: top;\n",
       "    }\n",
       "\n",
       "    .dataframe thead th {\n",
       "        text-align: right;\n",
       "    }\n",
       "</style>\n",
       "<table border=\"1\" class=\"dataframe\">\n",
       "  <thead>\n",
       "    <tr style=\"text-align: right;\">\n",
       "      <th></th>\n",
       "      <th>Received Packets</th>\n",
       "      <th>Received Bytes</th>\n",
       "      <th>Sent Bytes</th>\n",
       "      <th>Sent Packets</th>\n",
       "      <th>Port alive Duration (S)</th>\n",
       "      <th>Packets Rx Dropped</th>\n",
       "      <th>Packets Tx Dropped</th>\n",
       "      <th>Packets Rx Errors</th>\n",
       "      <th>Packets Tx Errors</th>\n",
       "      <th>Delta Received Packets</th>\n",
       "      <th>...</th>\n",
       "      <th>Total Load/Rate</th>\n",
       "      <th>Total Load/Latest</th>\n",
       "      <th>Unknown Load/Rate</th>\n",
       "      <th>Unknown Load/Latest</th>\n",
       "      <th>Latest bytes counter</th>\n",
       "      <th>Table ID</th>\n",
       "      <th>Active Flow Entries</th>\n",
       "      <th>Packets Looked Up</th>\n",
       "      <th>Packets Matched</th>\n",
       "      <th>Max Size</th>\n",
       "    </tr>\n",
       "  </thead>\n",
       "  <tbody>\n",
       "    <tr>\n",
       "      <th>count</th>\n",
       "      <td>37411.000000</td>\n",
       "      <td>3.741100e+04</td>\n",
       "      <td>3.741100e+04</td>\n",
       "      <td>37411.000000</td>\n",
       "      <td>37411.000000</td>\n",
       "      <td>37411.0</td>\n",
       "      <td>37411.0</td>\n",
       "      <td>37411.0</td>\n",
       "      <td>37411.0</td>\n",
       "      <td>37411.000000</td>\n",
       "      <td>...</td>\n",
       "      <td>3.741100e+04</td>\n",
       "      <td>3.741100e+04</td>\n",
       "      <td>3.741100e+04</td>\n",
       "      <td>3.741100e+04</td>\n",
       "      <td>3.741100e+04</td>\n",
       "      <td>37411.0</td>\n",
       "      <td>37411.000000</td>\n",
       "      <td>3.741100e+04</td>\n",
       "      <td>3.741100e+04</td>\n",
       "      <td>37411.0</td>\n",
       "    </tr>\n",
       "    <tr>\n",
       "      <th>mean</th>\n",
       "      <td>21618.897169</td>\n",
       "      <td>2.647491e+07</td>\n",
       "      <td>2.451212e+07</td>\n",
       "      <td>33626.824009</td>\n",
       "      <td>911.096415</td>\n",
       "      <td>0.0</td>\n",
       "      <td>0.0</td>\n",
       "      <td>0.0</td>\n",
       "      <td>0.0</td>\n",
       "      <td>194.958087</td>\n",
       "      <td>...</td>\n",
       "      <td>1.921455e+04</td>\n",
       "      <td>5.145597e+05</td>\n",
       "      <td>1.921455e+04</td>\n",
       "      <td>5.145597e+05</td>\n",
       "      <td>1.921455e+04</td>\n",
       "      <td>0.0</td>\n",
       "      <td>88.690572</td>\n",
       "      <td>1.008636e+05</td>\n",
       "      <td>1.007444e+05</td>\n",
       "      <td>-1.0</td>\n",
       "    </tr>\n",
       "    <tr>\n",
       "      <th>std</th>\n",
       "      <td>65283.170126</td>\n",
       "      <td>3.703044e+07</td>\n",
       "      <td>3.439876e+07</td>\n",
       "      <td>88792.970378</td>\n",
       "      <td>982.113446</td>\n",
       "      <td>0.0</td>\n",
       "      <td>0.0</td>\n",
       "      <td>0.0</td>\n",
       "      <td>0.0</td>\n",
       "      <td>1087.140797</td>\n",
       "      <td>...</td>\n",
       "      <td>1.107441e+05</td>\n",
       "      <td>1.863403e+06</td>\n",
       "      <td>1.107441e+05</td>\n",
       "      <td>1.863403e+06</td>\n",
       "      <td>1.107441e+05</td>\n",
       "      <td>0.0</td>\n",
       "      <td>790.715343</td>\n",
       "      <td>2.350297e+05</td>\n",
       "      <td>2.350284e+05</td>\n",
       "      <td>0.0</td>\n",
       "    </tr>\n",
       "    <tr>\n",
       "      <th>min</th>\n",
       "      <td>9.000000</td>\n",
       "      <td>7.860000e+02</td>\n",
       "      <td>5.705000e+03</td>\n",
       "      <td>41.000000</td>\n",
       "      <td>26.000000</td>\n",
       "      <td>0.0</td>\n",
       "      <td>0.0</td>\n",
       "      <td>0.0</td>\n",
       "      <td>0.0</td>\n",
       "      <td>0.000000</td>\n",
       "      <td>...</td>\n",
       "      <td>-1.284277e+06</td>\n",
       "      <td>0.000000e+00</td>\n",
       "      <td>-1.284277e+06</td>\n",
       "      <td>0.000000e+00</td>\n",
       "      <td>-1.284277e+06</td>\n",
       "      <td>0.0</td>\n",
       "      <td>4.000000</td>\n",
       "      <td>8.700000e+01</td>\n",
       "      <td>3.700000e+01</td>\n",
       "      <td>-1.0</td>\n",
       "    </tr>\n",
       "    <tr>\n",
       "      <th>25%</th>\n",
       "      <td>329.000000</td>\n",
       "      <td>9.104050e+04</td>\n",
       "      <td>5.775950e+04</td>\n",
       "      <td>347.000000</td>\n",
       "      <td>136.000000</td>\n",
       "      <td>0.0</td>\n",
       "      <td>0.0</td>\n",
       "      <td>0.0</td>\n",
       "      <td>0.0</td>\n",
       "      <td>2.000000</td>\n",
       "      <td>...</td>\n",
       "      <td>0.000000e+00</td>\n",
       "      <td>0.000000e+00</td>\n",
       "      <td>0.000000e+00</td>\n",
       "      <td>0.000000e+00</td>\n",
       "      <td>0.000000e+00</td>\n",
       "      <td>0.0</td>\n",
       "      <td>5.000000</td>\n",
       "      <td>2.367000e+03</td>\n",
       "      <td>2.272000e+03</td>\n",
       "      <td>-1.0</td>\n",
       "    </tr>\n",
       "    <tr>\n",
       "      <th>50%</th>\n",
       "      <td>1170.000000</td>\n",
       "      <td>1.263052e+07</td>\n",
       "      <td>1.262658e+07</td>\n",
       "      <td>1240.000000</td>\n",
       "      <td>259.000000</td>\n",
       "      <td>0.0</td>\n",
       "      <td>0.0</td>\n",
       "      <td>0.0</td>\n",
       "      <td>0.0</td>\n",
       "      <td>4.000000</td>\n",
       "      <td>...</td>\n",
       "      <td>0.000000e+00</td>\n",
       "      <td>0.000000e+00</td>\n",
       "      <td>0.000000e+00</td>\n",
       "      <td>0.000000e+00</td>\n",
       "      <td>0.000000e+00</td>\n",
       "      <td>0.0</td>\n",
       "      <td>6.000000</td>\n",
       "      <td>7.472000e+03</td>\n",
       "      <td>7.349000e+03</td>\n",
       "      <td>-1.0</td>\n",
       "    </tr>\n",
       "    <tr>\n",
       "      <th>75%</th>\n",
       "      <td>3417.000000</td>\n",
       "      <td>3.783230e+07</td>\n",
       "      <td>3.176443e+07</td>\n",
       "      <td>3968.000000</td>\n",
       "      <td>1747.000000</td>\n",
       "      <td>0.0</td>\n",
       "      <td>0.0</td>\n",
       "      <td>0.0</td>\n",
       "      <td>0.0</td>\n",
       "      <td>6.000000</td>\n",
       "      <td>...</td>\n",
       "      <td>0.000000e+00</td>\n",
       "      <td>0.000000e+00</td>\n",
       "      <td>0.000000e+00</td>\n",
       "      <td>0.000000e+00</td>\n",
       "      <td>0.000000e+00</td>\n",
       "      <td>0.0</td>\n",
       "      <td>8.000000</td>\n",
       "      <td>2.343700e+04</td>\n",
       "      <td>2.322000e+04</td>\n",
       "      <td>-1.0</td>\n",
       "    </tr>\n",
       "    <tr>\n",
       "      <th>max</th>\n",
       "      <td>352772.000000</td>\n",
       "      <td>2.715925e+08</td>\n",
       "      <td>2.392430e+08</td>\n",
       "      <td>421598.000000</td>\n",
       "      <td>3317.000000</td>\n",
       "      <td>0.0</td>\n",
       "      <td>0.0</td>\n",
       "      <td>0.0</td>\n",
       "      <td>0.0</td>\n",
       "      <td>15695.000000</td>\n",
       "      <td>...</td>\n",
       "      <td>2.004388e+06</td>\n",
       "      <td>2.606759e+07</td>\n",
       "      <td>2.004388e+06</td>\n",
       "      <td>2.606759e+07</td>\n",
       "      <td>2.004388e+06</td>\n",
       "      <td>0.0</td>\n",
       "      <td>9987.000000</td>\n",
       "      <td>1.012574e+06</td>\n",
       "      <td>1.012439e+06</td>\n",
       "      <td>-1.0</td>\n",
       "    </tr>\n",
       "  </tbody>\n",
       "</table>\n",
       "<p>8 rows × 29 columns</p>\n",
       "</div>"
      ],
      "text/plain": [
       "       Received Packets  Received Bytes    Sent Bytes   Sent Packets  \\\n",
       "count      37411.000000    3.741100e+04  3.741100e+04   37411.000000   \n",
       "mean       21618.897169    2.647491e+07  2.451212e+07   33626.824009   \n",
       "std        65283.170126    3.703044e+07  3.439876e+07   88792.970378   \n",
       "min            9.000000    7.860000e+02  5.705000e+03      41.000000   \n",
       "25%          329.000000    9.104050e+04  5.775950e+04     347.000000   \n",
       "50%         1170.000000    1.263052e+07  1.262658e+07    1240.000000   \n",
       "75%         3417.000000    3.783230e+07  3.176443e+07    3968.000000   \n",
       "max       352772.000000    2.715925e+08  2.392430e+08  421598.000000   \n",
       "\n",
       "       Port alive Duration (S)  Packets Rx Dropped  Packets Tx Dropped  \\\n",
       "count             37411.000000             37411.0             37411.0   \n",
       "mean                911.096415                 0.0                 0.0   \n",
       "std                 982.113446                 0.0                 0.0   \n",
       "min                  26.000000                 0.0                 0.0   \n",
       "25%                 136.000000                 0.0                 0.0   \n",
       "50%                 259.000000                 0.0                 0.0   \n",
       "75%                1747.000000                 0.0                 0.0   \n",
       "max                3317.000000                 0.0                 0.0   \n",
       "\n",
       "       Packets Rx Errors  Packets Tx Errors  Delta Received Packets  ...  \\\n",
       "count            37411.0            37411.0            37411.000000  ...   \n",
       "mean                 0.0                0.0              194.958087  ...   \n",
       "std                  0.0                0.0             1087.140797  ...   \n",
       "min                  0.0                0.0                0.000000  ...   \n",
       "25%                  0.0                0.0                2.000000  ...   \n",
       "50%                  0.0                0.0                4.000000  ...   \n",
       "75%                  0.0                0.0                6.000000  ...   \n",
       "max                  0.0                0.0            15695.000000  ...   \n",
       "\n",
       "       Total Load/Rate  Total Load/Latest  Unknown Load/Rate  \\\n",
       "count     3.741100e+04       3.741100e+04       3.741100e+04   \n",
       "mean      1.921455e+04       5.145597e+05       1.921455e+04   \n",
       "std       1.107441e+05       1.863403e+06       1.107441e+05   \n",
       "min      -1.284277e+06       0.000000e+00      -1.284277e+06   \n",
       "25%       0.000000e+00       0.000000e+00       0.000000e+00   \n",
       "50%       0.000000e+00       0.000000e+00       0.000000e+00   \n",
       "75%       0.000000e+00       0.000000e+00       0.000000e+00   \n",
       "max       2.004388e+06       2.606759e+07       2.004388e+06   \n",
       "\n",
       "       Unknown Load/Latest  Latest bytes counter  Table ID  \\\n",
       "count         3.741100e+04          3.741100e+04   37411.0   \n",
       "mean          5.145597e+05          1.921455e+04       0.0   \n",
       "std           1.863403e+06          1.107441e+05       0.0   \n",
       "min           0.000000e+00         -1.284277e+06       0.0   \n",
       "25%           0.000000e+00          0.000000e+00       0.0   \n",
       "50%           0.000000e+00          0.000000e+00       0.0   \n",
       "75%           0.000000e+00          0.000000e+00       0.0   \n",
       "max           2.606759e+07          2.004388e+06       0.0   \n",
       "\n",
       "       Active Flow Entries  Packets Looked Up  Packets Matched  Max Size  \n",
       "count         37411.000000       3.741100e+04     3.741100e+04   37411.0  \n",
       "mean             88.690572       1.008636e+05     1.007444e+05      -1.0  \n",
       "std             790.715343       2.350297e+05     2.350284e+05       0.0  \n",
       "min               4.000000       8.700000e+01     3.700000e+01      -1.0  \n",
       "25%               5.000000       2.367000e+03     2.272000e+03      -1.0  \n",
       "50%               6.000000       7.472000e+03     7.349000e+03      -1.0  \n",
       "75%               8.000000       2.343700e+04     2.322000e+04      -1.0  \n",
       "max            9987.000000       1.012574e+06     1.012439e+06      -1.0  \n",
       "\n",
       "[8 rows x 29 columns]"
      ]
     },
     "execution_count": 6,
     "metadata": {},
     "output_type": "execute_result"
    }
   ],
   "source": [
    "data.describe()"
   ]
  },
  {
   "cell_type": "code",
   "execution_count": 7,
   "id": "9c07b8ab",
   "metadata": {},
   "outputs": [
    {
     "data": {
      "text/plain": [
       "Switch ID                           12\n",
       "Port Number                          4\n",
       "Received Packets                  9931\n",
       "Received Bytes                   26044\n",
       "Sent Bytes                       32456\n",
       "Sent Packets                     11570\n",
       "Port alive Duration (S)           1206\n",
       "Packets Rx Dropped                   1\n",
       "Packets Tx Dropped                   1\n",
       "Packets Rx Errors                    1\n",
       "Packets Tx Errors                    1\n",
       "Delta Received Packets             676\n",
       "Delta Received Bytes              3635\n",
       "Delta Sent Bytes                  3476\n",
       "Delta Sent Packets                 567\n",
       "Delta Port alive Duration (S)        2\n",
       "Delta Packets Rx Dropped             1\n",
       " Delta Packets Tx Dropped            1\n",
       "Delta Packets Rx Errors              1\n",
       "Delta Packets Tx Errors              1\n",
       "Connection Point                     5\n",
       "Total Load/Rate                   1297\n",
       "Total Load/Latest                 1918\n",
       "Unknown Load/Rate                 1297\n",
       "Unknown Load/Latest               1918\n",
       "Latest bytes counter              1297\n",
       "is_valid                             1\n",
       "Table ID                             1\n",
       "Active Flow Entries                 44\n",
       "Packets Looked Up                 9311\n",
       "Packets Matched                   9318\n",
       "Max Size                             1\n",
       "Label                                6\n",
       "Binary Label                         2\n",
       "dtype: int64"
      ]
     },
     "execution_count": 7,
     "metadata": {},
     "output_type": "execute_result"
    }
   ],
   "source": [
    "data.nunique()"
   ]
  },
  {
   "cell_type": "code",
   "execution_count": 8,
   "id": "06ab824a",
   "metadata": {},
   "outputs": [
    {
     "data": {
      "text/plain": [
       "Switch ID                        37411\n",
       "Port Number                      37411\n",
       "Received Packets                 37411\n",
       "Received Bytes                   37411\n",
       "Sent Bytes                       37411\n",
       "Sent Packets                     37411\n",
       "Port alive Duration (S)          37411\n",
       "Packets Rx Dropped               37411\n",
       "Packets Tx Dropped               37411\n",
       "Packets Rx Errors                37411\n",
       "Packets Tx Errors                37411\n",
       "Delta Received Packets           37411\n",
       "Delta Received Bytes             37411\n",
       "Delta Sent Bytes                 37411\n",
       "Delta Sent Packets               37411\n",
       "Delta Port alive Duration (S)    37411\n",
       "Delta Packets Rx Dropped         37411\n",
       " Delta Packets Tx Dropped        37411\n",
       "Delta Packets Rx Errors          37411\n",
       "Delta Packets Tx Errors          37411\n",
       "Connection Point                 37411\n",
       "Total Load/Rate                  37411\n",
       "Total Load/Latest                37411\n",
       "Unknown Load/Rate                37411\n",
       "Unknown Load/Latest              37411\n",
       "Latest bytes counter             37411\n",
       "is_valid                         37411\n",
       "Table ID                         37411\n",
       "Active Flow Entries              37411\n",
       "Packets Looked Up                37411\n",
       "Packets Matched                  37411\n",
       "Max Size                         37411\n",
       "Label                            37411\n",
       "Binary Label                     37411\n",
       "dtype: int64"
      ]
     },
     "execution_count": 8,
     "metadata": {},
     "output_type": "execute_result"
    }
   ],
   "source": [
    "data.isnull().count()"
   ]
  },
  {
   "cell_type": "code",
   "execution_count": 9,
   "id": "a56ceaaf",
   "metadata": {},
   "outputs": [
    {
     "data": {
      "image/png": "[encoded data removed]",
      "text/plain": [
       "<Figure size 640x480 with 1 Axes>"
      ]
     },
     "metadata": {},
     "output_type": "display_data"
    }
   ],
   "source": [
    "sns.countplot(x ='Label', data = data)\n",
    "plt.show()"
   ]
  },
  {
   "cell_type": "markdown",
   "id": "f9f7fc60",
   "metadata": {},
   "source": [
    "## Data Pre-processing"
   ]
  },
  {
   "cell_type": "code",
   "execution_count": 19,
   "id": "180511fe",
   "metadata": {},
   "outputs": [],
   "source": [
    "from sklearn.model_selection import train_test_split\n",
    "from sklearn.ensemble import RandomForestClassifier\n",
    "from sklearn.preprocessing import StandardScaler,LabelEncoder\n",
    "from sklearn.metrics import confusion_matrix, ConfusionMatrixDisplay, classification_report, accuracy_score "
   ]
  },
  {
   "cell_type": "code",
   "execution_count": 11,
   "id": "fb916c53",
   "metadata": {},
   "outputs": [],
   "source": [
    "data.drop(columns=['Packets Rx Dropped', 'Packets Tx Dropped', 'Packets Rx Errors', 'Packets Tx Errors','Delta Packets Rx Dropped',' Delta Packets Tx Dropped','Delta Packets Rx Errors','Delta Packets Tx Errors','is_valid','Table ID','Max Size'], inplace=True)"
   ]
  },
  {
   "cell_type": "code",
   "execution_count": 12,
   "id": "0692f202",
   "metadata": {},
   "outputs": [],
   "source": [
    "labelencoder = LabelEncoder()\n",
    "\n",
    "labelencoder.fit(data['Switch ID'])\n",
    "data ['Switch ID'] = labelencoder.transform(data['Switch ID'])\n",
    "\n",
    "labelencoder.fit(data['Port Number'])\n",
    "data ['Port Number'] = labelencoder.transform(data['Port Number'])\n",
    "\n",
    "labelencoder.fit(data['Binary Label'])\n",
    "data ['Binary Label'] = labelencoder.transform(data['Binary Label'])"
   ]
  },
  {
   "cell_type": "code",
   "execution_count": 13,
   "id": "45380666",
   "metadata": {},
   "outputs": [
    {
     "name": "stdout",
     "output_type": "stream",
     "text": [
      "<class 'pandas.core.frame.DataFrame'>\n",
      "RangeIndex: 37411 entries, 0 to 37410\n",
      "Data columns (total 23 columns):\n",
      " #   Column                         Non-Null Count  Dtype \n",
      "---  ------                         --------------  ----- \n",
      " 0   Switch ID                      37411 non-null  int64 \n",
      " 1   Port Number                    37411 non-null  int64 \n",
      " 2   Received Packets               37411 non-null  int64 \n",
      " 3   Received Bytes                 37411 non-null  int64 \n",
      " 4   Sent Bytes                     37411 non-null  int64 \n",
      " 5   Sent Packets                   37411 non-null  int64 \n",
      " 6   Port alive Duration (S)        37411 non-null  int64 \n",
      " 7   Delta Received Packets         37411 non-null  int64 \n",
      " 8   Delta Received Bytes           37411 non-null  int64 \n",
      " 9   Delta Sent Bytes               37411 non-null  int64 \n",
      " 10  Delta Sent Packets             37411 non-null  int64 \n",
      " 11  Delta Port alive Duration (S)  37411 non-null  int64 \n",
      " 12  Connection Point               37411 non-null  int64 \n",
      " 13  Total Load/Rate                37411 non-null  int64 \n",
      " 14  Total Load/Latest              37411 non-null  int64 \n",
      " 15  Unknown Load/Rate              37411 non-null  int64 \n",
      " 16  Unknown Load/Latest            37411 non-null  int64 \n",
      " 17  Latest bytes counter           37411 non-null  int64 \n",
      " 18  Active Flow Entries            37411 non-null  int64 \n",
      " 19  Packets Looked Up              37411 non-null  int64 \n",
      " 20  Packets Matched                37411 non-null  int64 \n",
      " 21  Label                          37411 non-null  object\n",
      " 22  Binary Label                   37411 non-null  int64 \n",
      "dtypes: int64(22), object(1)\n",
      "memory usage: 6.6+ MB\n"
     ]
    }
   ],
   "source": [
    "data.info()"
   ]
  },
  {
   "cell_type": "code",
   "execution_count": 14,
   "id": "a59a31f7",
   "metadata": {},
   "outputs": [],
   "source": [
    "X = data.drop('Label',axis=1).values\n",
    "y = data['Label'].values"
   ]
  },
  {
   "cell_type": "code",
   "execution_count": 15,
   "id": "19886865",
   "metadata": {},
   "outputs": [
    {
     "name": "stdout",
     "output_type": "stream",
     "text": [
      "[[    11      0    132 ...    767    688      0]\n",
      " [    11      1    187 ...    767    688      0]\n",
      " [    11      2    235 ...    767    688      0]\n",
      " ...\n",
      " [     8      0   1042 ... 295511 295404      0]\n",
      " [     8      1 149012 ... 295511 295404      0]\n",
      " [     8      2    228 ... 295511 295404      0]]\n",
      "['TCP-SYN' 'TCP-SYN' 'TCP-SYN' ... 'PortScan' 'PortScan' 'PortScan']\n"
     ]
    }
   ],
   "source": [
    "print(X)\n",
    "print(y)"
   ]
  },
  {
   "cell_type": "code",
   "execution_count": 16,
   "id": "a416d61d",
   "metadata": {},
   "outputs": [],
   "source": [
    "X_train, X_test, y_train, y_test = train_test_split (X, y, test_size = 0.4, random_state = 42)"
   ]
  },
  {
   "cell_type": "code",
   "execution_count": 17,
   "id": "fb8927fe",
   "metadata": {},
   "outputs": [
    {
     "name": "stdout",
     "output_type": "stream",
     "text": [
      "(22446, 22)\n",
      "(14965, 22)\n",
      "(22446,)\n",
      "(14965,)\n"
     ]
    }
   ],
   "source": [
    "print (X_train.shape)\n",
    "print (X_test.shape)\n",
    "print (y_train.shape)\n",
    "print (y_test.shape)"
   ]
  },
  {
   "cell_type": "markdown",
   "id": "4d404beb",
   "metadata": {},
   "source": [
    "## Building the model"
   ]
  },
  {
   "cell_type": "code",
   "execution_count": 20,
   "id": "6e6dc1e9",
   "metadata": {},
   "outputs": [
    {
     "data": {
      "text/plain": [
       "RandomForestClassifier()"
      ]
     },
     "execution_count": 20,
     "metadata": {},
     "output_type": "execute_result"
    }
   ],
   "source": [
    "#Create a Gaussian Classifier\n",
    "clf=RandomForestClassifier(n_estimators=100)\n",
    "\n",
    "#Train the model using the training sets y_pred=clf.predict(X_test)\n",
    "clf.fit(X_train,y_train)"
   ]
  },
  {
   "cell_type": "code",
   "execution_count": 22,
   "id": "827f09d9",
   "metadata": {},
   "outputs": [
    {
     "name": "stdout",
     "output_type": "stream",
     "text": [
      "['PortScan' 'Blackhole' 'Diversion' ... 'PortScan' 'TCP-SYN' 'TCP-SYN']\n",
      "['PortScan' 'Blackhole' 'Diversion' ... 'PortScan' 'TCP-SYN' 'TCP-SYN']\n"
     ]
    }
   ],
   "source": [
    "y_pred = clf.predict(X_test)\n",
    "print (y_pred)\n",
    "print (y_test)"
   ]
  },
  {
   "cell_type": "code",
   "execution_count": 23,
   "id": "f872040b",
   "metadata": {},
   "outputs": [
    {
     "name": "stdout",
     "output_type": "stream",
     "text": [
      "1.0\n",
      "0.9424657534246575\n"
     ]
    }
   ],
   "source": [
    "print (clf.score(X_train, y_train))\n",
    "print (clf.score(X_test, y_test))"
   ]
  },
  {
   "cell_type": "markdown",
   "id": "30b06b0c",
   "metadata": {},
   "source": [
    "## Evaluating the performance of the model"
   ]
  },
  {
   "cell_type": "code",
   "execution_count": 25,
   "id": "4053a752",
   "metadata": {},
   "outputs": [
    {
     "data": {
      "image/png": "[encoded data removed]",
      "text/plain": [
       "<Figure size 640x480 with 2 Axes>"
      ]
     },
     "metadata": {},
     "output_type": "display_data"
    }
   ],
   "source": [
    "cm = confusion_matrix(y_test, y_pred) \n",
    "disp = ConfusionMatrixDisplay(confusion_matrix = cm, display_labels = clf.classes_)\n",
    "disp.plot(cmap=plt.cm.Blues,values_format='g')\n",
    "plt.show()"
   ]
  }
 ],
 "metadata": {
  "kernelspec": {
   "display_name": "Python 3 (ipykernel)",
   "language": "python",
   "name": "python3"
  },
  "language_info": {
   "codemirror_mode": {
    "name": "ipython",
    "version": 3
   },
   "file_extension": ".py",
   "mimetype": "text/x-python",
   "name": "python",
   "nbconvert_exporter": "python",
   "pygments_lexer": "ipython3",
   "version": "3.9.13"
  }
 },
 "nbformat": 4,
 "nbformat_minor": 5
}
